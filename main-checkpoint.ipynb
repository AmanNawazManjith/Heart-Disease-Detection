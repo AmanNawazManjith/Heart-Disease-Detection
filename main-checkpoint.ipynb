{
 "cells": [
  {
   "cell_type": "code",
   "execution_count": null,
   "id": "20a23c9c",
   "metadata": {},
   "outputs": [],
   "source": [
    "#Importing the libraries"
   ]
  },
  {
   "cell_type": "code",
   "execution_count": 1,
   "id": "63a688aa",
   "metadata": {},
   "outputs": [],
   "source": [
    "import pandas as pd\n",
    "import numpy as np\n",
    "import pylab as pl\n",
    "import seaborn as sn\n",
    "from sklearn.metrics import confusion_matrix, classification_report\n",
    "import matplotlib.mlab as mlab\n",
    "import matplotlib.pyplot as plt\n",
    "from sklearn import preprocessing\n",
    "import statsmodels.api as sm\n",
    "import scipy.optimize as opt\n",
    "from sklearn.model_selection import train_test_split\n",
    "from sklearn.linear_model import LogisticRegression\n",
    "from sklearn.metrics import jaccard_score"
   ]
  },
  {
   "cell_type": "code",
   "execution_count": null,
   "id": "28e04dc5",
   "metadata": {},
   "outputs": [],
   "source": [
    "#Reading the Dataset"
   ]
  },
  {
   "cell_type": "code",
   "execution_count": 2,
   "id": "7d7b61ee",
   "metadata": {},
   "outputs": [],
   "source": [
    "chd_data=pd.read_csv('framingham.csv')\n",
    "chd_data.drop(['education'], inplace=True, axis=1)"
   ]
  },
  {
   "cell_type": "code",
   "execution_count": null,
   "id": "ecc62c72",
   "metadata": {},
   "outputs": [],
   "source": [
    "#Removing NaN"
   ]
  },
  {
   "cell_type": "code",
   "execution_count": 3,
   "id": "07fc3b00",
   "metadata": {},
   "outputs": [
    {
     "name": "stdout",
     "output_type": "stream",
     "text": [
      "   male  age  currentSmoker  cigsPerDay  BPMeds  prevalentStroke  \\\n",
      "0     1   39              0         0.0     0.0                0   \n",
      "1     0   46              0         0.0     0.0                0   \n",
      "2     1   48              1        20.0     0.0                0   \n",
      "3     0   61              1        30.0     0.0                0   \n",
      "4     0   46              1        23.0     0.0                0   \n",
      "\n",
      "   prevalentHyp  diabetes  totChol  sysBP  diaBP    BMI  heartRate  glucose  \\\n",
      "0             0         0    195.0  106.0   70.0  26.97       80.0     77.0   \n",
      "1             0         0    250.0  121.0   81.0  28.73       95.0     76.0   \n",
      "2             0         0    245.0  127.5   80.0  25.34       75.0     70.0   \n",
      "3             1         0    225.0  150.0   95.0  28.58       65.0    103.0   \n",
      "4             0         0    285.0  130.0   84.0  23.10       85.0     85.0   \n",
      "\n",
      "   TenYearCHD  \n",
      "0           0  \n",
      "1           0  \n",
      "2           0  \n",
      "3           1  \n",
      "4           0   (3749, 15)\n",
      "0    3177\n",
      "1     572\n",
      "Name: TenYearCHD, dtype: int64\n"
     ]
    }
   ],
   "source": [
    "chd_data.dropna(axis=0, inplace=True)\n",
    "print(chd_data.head(), chd_data.shape)\n",
    "print(chd_data.TenYearCHD.value_counts())"
   ]
  },
  {
   "cell_type": "code",
   "execution_count": null,
   "id": "bbfb8c12",
   "metadata": {},
   "outputs": [],
   "source": [
    "#Counting number of patients affected with CHD"
   ]
  },
  {
   "cell_type": "code",
   "execution_count": 4,
   "id": "1f9110ac",
   "metadata": {},
   "outputs": [
    {
     "data": {
      "image/png": "[encoded data removed]",
      "text/plain": [
       "<Figure size 576x432 with 1 Axes>"
      ]
     },
     "metadata": {
      "needs_background": "light"
     },
     "output_type": "display_data"
    }
   ],
   "source": [
    "plt.figure(figsize=(8,6))\n",
    "sn.countplot(x=\"TenYearCHD\",data=chd_data, palette=\"BuGn_r\")\n",
    "plt.show()"
   ]
  },
  {
   "cell_type": "code",
   "execution_count": null,
   "id": "d9934d1e",
   "metadata": {},
   "outputs": [],
   "source": [
    "#Training and Testing sets"
   ]
  },
  {
   "cell_type": "code",
   "execution_count": null,
   "id": "4dc73517",
   "metadata": {},
   "outputs": [],
   "source": [
    "#-----------------------------"
   ]
  },
  {
   "cell_type": "code",
   "execution_count": null,
   "id": "ff24c994",
   "metadata": {},
   "outputs": [],
   "source": [
    "#Declaring the x and y variables"
   ]
  },
  {
   "cell_type": "code",
   "execution_count": 5,
   "id": "9dafbe14",
   "metadata": {},
   "outputs": [],
   "source": [
    "x = np.asarray(chd_data[['age','male','cigsPerDay','totChol','glucose']])\n",
    "y = np.asarray(chd_data['TenYearCHD'])"
   ]
  },
  {
   "cell_type": "code",
   "execution_count": null,
   "id": "ca04d820",
   "metadata": {},
   "outputs": [],
   "source": [
    "#Normalizing the dataset"
   ]
  },
  {
   "cell_type": "code",
   "execution_count": null,
   "id": "c1d2f3e8",
   "metadata": {},
   "outputs": [],
   "source": [
    "x = preprocessing.StandardScaler().fit(x).transform(x)"
   ]
  },
  {
   "cell_type": "code",
   "execution_count": null,
   "id": "297236d5",
   "metadata": {},
   "outputs": [],
   "source": [
    "#Actually training and testing x and y sets"
   ]
  },
  {
   "cell_type": "code",
   "execution_count": 7,
   "id": "19b43211",
   "metadata": {},
   "outputs": [
    {
     "name": "stdout",
     "output_type": "stream",
     "text": [
      "Train set:  (2624, 5) (2624,)\n",
      "Test set:  (1125, 5) (1125,)\n"
     ]
    }
   ],
   "source": [
    "x_train, x_test, y_train, y_test = train_test_split(x ,y ,test_size=0.3, random_state=4)\n",
    "print('Train set: ', x_train.shape, y_train.shape)\n",
    "print('Test set: ', x_test.shape, y_test.shape)"
   ]
  },
  {
   "cell_type": "code",
   "execution_count": null,
   "id": "bccdfb77",
   "metadata": {},
   "outputs": [],
   "source": [
    "#Modeling the dataset"
   ]
  },
  {
   "cell_type": "code",
   "execution_count": 8,
   "id": "ef3c9b7c",
   "metadata": {},
   "outputs": [],
   "source": [
    "log_reg = LogisticRegression()\n",
    "log_reg.fit(x_train, y_train)\n",
    "y_pred = log_reg.predict(x_test)"
   ]
  },
  {
   "cell_type": "code",
   "execution_count": null,
   "id": "ca7714cb",
   "metadata": {},
   "outputs": [],
   "source": [
    "#Evaluation and Accuracy"
   ]
  },
  {
   "cell_type": "code",
   "execution_count": 9,
   "id": "b9593ee9",
   "metadata": {},
   "outputs": [
    {
     "name": "stdout",
     "output_type": "stream",
     "text": [
      "\n",
      "Accuracy of the model in Jaccard score is : 0.03763440860215054\n"
     ]
    }
   ],
   "source": [
    "print('')\n",
    "print('Accuracy of the model in Jaccard score is :',jaccard_score(y_test, y_pred))"
   ]
  },
  {
   "cell_type": "code",
   "execution_count": null,
   "id": "baea68b2",
   "metadata": {},
   "outputs": [],
   "source": [
    "#Confusion Matrix"
   ]
  },
  {
   "cell_type": "code",
   "execution_count": 11,
   "id": "ec608ce7",
   "metadata": {},
   "outputs": [
    {
     "data": {
      "image/png": "[encoded data removed]",
      "text/plain": [
       "<Figure size 648x432 with 2 Axes>"
      ]
     },
     "metadata": {
      "needs_background": "light"
     },
     "output_type": "display_data"
    },
    {
     "name": "stdout",
     "output_type": "stream",
     "text": [
      "The details for the confusion matrix is :\n",
      "              precision    recall  f1-score   support\n",
      "\n",
      "           0       0.84      0.99      0.91       944\n",
      "           1       0.58      0.04      0.07       181\n",
      "\n",
      "    accuracy                           0.84      1125\n",
      "   macro avg       0.71      0.52      0.49      1125\n",
      "weighted avg       0.80      0.84      0.78      1125\n",
      "\n"
     ]
    }
   ],
   "source": [
    "cm = confusion_matrix(y_test, y_pred)\n",
    "cm_setup = pd.DataFrame(data=cm, columns = ['Predicted:0', 'Predicted:1',], index=['Actual:0', 'Actual:1'])\n",
    "\n",
    "plt.figure(figsize=(9, 6))\n",
    "sn.heatmap(cm_setup, annot=True, fmt='d', cmap=\"Greens\")\n",
    "plt.show()\n",
    "\n",
    "print('The details for the confusion matrix is :')\n",
    "print(classification_report(y_test, y_pred))"
   ]
  },
  {
   "cell_type": "code",
   "execution_count": null,
   "id": "14f48d86",
   "metadata": {},
   "outputs": [],
   "source": []
  }
 ],
 "metadata": {
  "kernelspec": {
   "display_name": "Python 3",
   "language": "python",
   "name": "python3"
  },
  "language_info": {
   "codemirror_mode": {
    "name": "ipython",
    "version": 3
   },
   "file_extension": ".py",
   "mimetype": "text/x-python",
   "name": "python",
   "nbconvert_exporter": "python",
   "pygments_lexer": "ipython3",
   "version": "3.8.8"
  }
 },
 "nbformat": 4,
 "nbformat_minor": 5
}
